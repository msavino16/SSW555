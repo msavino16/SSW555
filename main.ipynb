{
 "cells": [
  {
   "cell_type": "markdown",
   "id": "36025c09-2da3-4839-8cef-f572d187b7b4",
   "metadata": {},
   "source": [
    "# 1. Brain Source Localization with ConvDip"
   ]
  },
  {
   "cell_type": "code",
   "execution_count": 12,
   "id": "7420bf1a-efa8-4c24-8ad4-e8ca759fabb3",
   "metadata": {},
   "outputs": [],
   "source": [
    "%run functions.ipynb"
   ]
  },
  {
   "cell_type": "code",
   "execution_count": 13,
   "id": "357c69a8-2553-4cf8-9f91-a63437d4aeaa",
   "metadata": {},
   "outputs": [
    {
     "name": "stdout",
     "output_type": "stream",
     "text": [
      "processing task: LA\n",
      "(59, 3)\n"
     ]
    },
    {
     "ename": "AxisError",
     "evalue": "axis 1 is out of bounds for array of dimension 1",
     "output_type": "error",
     "traceback": [
      "\u001b[1;31m---------------------------------------------------------------------------\u001b[0m",
      "\u001b[1;31mAxisError\u001b[0m                                 Traceback (most recent call last)",
      "Cell \u001b[1;32mIn[13], line 9\u001b[0m\n\u001b[0;32m      7\u001b[0m \u001b[38;5;66;03m# set your result path\u001b[39;00m\n\u001b[0;32m      8\u001b[0m result_path \u001b[38;5;241m=\u001b[39m \u001b[38;5;124m'\u001b[39m\u001b[38;5;124m./result/\u001b[39m\u001b[38;5;124m'\u001b[39m\n\u001b[1;32m----> 9\u001b[0m \u001b[43mConvDip_ESI\u001b[49m\u001b[43m(\u001b[49m\u001b[43mtasks\u001b[49m\u001b[43m,\u001b[49m\u001b[43m \u001b[49m\u001b[43mresult_path\u001b[49m\u001b[43m)\u001b[49m\n",
      "File \u001b[1;32m~\\AppData\\Local\\Temp\\ipykernel_43784\\3540682078.py:48\u001b[0m, in \u001b[0;36mConvDip_ESI\u001b[1;34m(task_id, result_path)\u001b[0m\n\u001b[0;32m     45\u001b[0m test_input \u001b[38;5;241m=\u001b[39m max_min_normalize(test_input)\n\u001b[0;32m     47\u001b[0m \u001b[38;5;66;03m# change to [timepoint, 12, 14]:\u001b[39;00m\n\u001b[1;32m---> 48\u001b[0m test_input_matrix \u001b[38;5;241m=\u001b[39m \u001b[43minput_reshape\u001b[49m\u001b[43m(\u001b[49m\u001b[43mtest_input\u001b[49m\u001b[43m,\u001b[49m\u001b[43m \u001b[49m\u001b[43mmap_dir\u001b[49m\u001b[43m)\u001b[49m\n\u001b[0;32m     50\u001b[0m \u001b[38;5;66;03m# print('check input matrix shape:')\u001b[39;00m\n\u001b[0;32m     51\u001b[0m \u001b[38;5;66;03m# print(test_input_matrix.shape)  # (166560, 9, 11)\u001b[39;00m\n\u001b[0;32m     52\u001b[0m \n\u001b[0;32m     53\u001b[0m \u001b[38;5;66;03m# get the number of samples:\u001b[39;00m\n\u001b[0;32m     54\u001b[0m ntest \u001b[38;5;241m=\u001b[39m test_input_matrix\u001b[38;5;241m.\u001b[39mshape[\u001b[38;5;241m0\u001b[39m]\n",
      "File \u001b[1;32m~\\AppData\\Local\\Temp\\ipykernel_43784\\1150164830.py:10\u001b[0m, in \u001b[0;36minput_reshape\u001b[1;34m(data, fname)\u001b[0m\n\u001b[0;32m      8\u001b[0m maptable \u001b[38;5;241m=\u001b[39m matfile[\u001b[38;5;124m'\u001b[39m\u001b[38;5;124mmaptable\u001b[39m\u001b[38;5;124m'\u001b[39m][()]\u001b[38;5;241m.\u001b[39mT\n\u001b[0;32m      9\u001b[0m \u001b[38;5;28mprint\u001b[39m(maptable\u001b[38;5;241m.\u001b[39mshape)\n\u001b[1;32m---> 10\u001b[0m x \u001b[38;5;241m=\u001b[39m \u001b[38;5;28;43mmax\u001b[39;49m\u001b[43m(\u001b[49m\u001b[43mmaptable\u001b[49m\u001b[43m[\u001b[49m\u001b[43m:\u001b[49m\u001b[43m,\u001b[49m\u001b[43m \u001b[49m\u001b[38;5;241;43m0\u001b[39;49m\u001b[43m]\u001b[49m\u001b[43m)\u001b[49m \u001b[38;5;241m+\u001b[39m \u001b[38;5;241m1\u001b[39m\n\u001b[0;32m     11\u001b[0m y \u001b[38;5;241m=\u001b[39m \u001b[38;5;28mmax\u001b[39m(maptable[:, \u001b[38;5;241m1\u001b[39m]) \u001b[38;5;241m+\u001b[39m \u001b[38;5;241m1\u001b[39m\n\u001b[0;32m     12\u001b[0m data_num \u001b[38;5;241m=\u001b[39m data\u001b[38;5;241m.\u001b[39mshape[\u001b[38;5;241m0\u001b[39m]\n",
      "File \u001b[1;32m~\\AppData\\Local\\Temp\\ipykernel_43784\\38792910.py:2\u001b[0m, in \u001b[0;36mmax\u001b[1;34m(data)\u001b[0m\n\u001b[0;32m      1\u001b[0m \u001b[38;5;28;01mdef\u001b[39;00m \u001b[38;5;21mmax\u001b[39m(data):\n\u001b[1;32m----> 2\u001b[0m     data_max \u001b[38;5;241m=\u001b[39m \u001b[43mnp\u001b[49m\u001b[38;5;241;43m.\u001b[39;49m\u001b[43mmax\u001b[49m\u001b[43m(\u001b[49m\u001b[43mdata\u001b[49m\u001b[43m,\u001b[49m\u001b[43m \u001b[49m\u001b[43maxis\u001b[49m\u001b[38;5;241;43m=\u001b[39;49m\u001b[38;5;241;43m1\u001b[39;49m\u001b[43m)\u001b[49m\n\u001b[0;32m      3\u001b[0m     data_max \u001b[38;5;241m=\u001b[39m np\u001b[38;5;241m.\u001b[39mexpand_dims(data_max, axis\u001b[38;5;241m=\u001b[39m\u001b[38;5;241m1\u001b[39m)\n\u001b[0;32m      4\u001b[0m     data_max \u001b[38;5;241m=\u001b[39m np\u001b[38;5;241m.\u001b[39mtile(data_max, (\u001b[38;5;241m1\u001b[39m, data\u001b[38;5;241m.\u001b[39mshape[\u001b[38;5;241m1\u001b[39m]))\n",
      "File \u001b[1;32mc:\\Users\\alexe\\Downloads\\ESI_project 2\\ESI_project 2\\.venv\\lib\\site-packages\\numpy\\core\\fromnumeric.py:2810\u001b[0m, in \u001b[0;36mmax\u001b[1;34m(a, axis, out, keepdims, initial, where)\u001b[0m\n\u001b[0;32m   2692\u001b[0m \u001b[38;5;129m@array_function_dispatch\u001b[39m(_max_dispatcher)\n\u001b[0;32m   2693\u001b[0m \u001b[38;5;129m@set_module\u001b[39m(\u001b[38;5;124m'\u001b[39m\u001b[38;5;124mnumpy\u001b[39m\u001b[38;5;124m'\u001b[39m)\n\u001b[0;32m   2694\u001b[0m \u001b[38;5;28;01mdef\u001b[39;00m \u001b[38;5;21mmax\u001b[39m(a, axis\u001b[38;5;241m=\u001b[39m\u001b[38;5;28;01mNone\u001b[39;00m, out\u001b[38;5;241m=\u001b[39m\u001b[38;5;28;01mNone\u001b[39;00m, keepdims\u001b[38;5;241m=\u001b[39mnp\u001b[38;5;241m.\u001b[39m_NoValue, initial\u001b[38;5;241m=\u001b[39mnp\u001b[38;5;241m.\u001b[39m_NoValue,\n\u001b[0;32m   2695\u001b[0m          where\u001b[38;5;241m=\u001b[39mnp\u001b[38;5;241m.\u001b[39m_NoValue):\n\u001b[0;32m   2696\u001b[0m \u001b[38;5;250m    \u001b[39m\u001b[38;5;124;03m\"\"\"\u001b[39;00m\n\u001b[0;32m   2697\u001b[0m \u001b[38;5;124;03m    Return the maximum of an array or maximum along an axis.\u001b[39;00m\n\u001b[0;32m   2698\u001b[0m \n\u001b[1;32m   (...)\u001b[0m\n\u001b[0;32m   2808\u001b[0m \u001b[38;5;124;03m    5\u001b[39;00m\n\u001b[0;32m   2809\u001b[0m \u001b[38;5;124;03m    \"\"\"\u001b[39;00m\n\u001b[1;32m-> 2810\u001b[0m     \u001b[38;5;28;01mreturn\u001b[39;00m \u001b[43m_wrapreduction\u001b[49m\u001b[43m(\u001b[49m\u001b[43ma\u001b[49m\u001b[43m,\u001b[49m\u001b[43m \u001b[49m\u001b[43mnp\u001b[49m\u001b[38;5;241;43m.\u001b[39;49m\u001b[43mmaximum\u001b[49m\u001b[43m,\u001b[49m\u001b[43m \u001b[49m\u001b[38;5;124;43m'\u001b[39;49m\u001b[38;5;124;43mmax\u001b[39;49m\u001b[38;5;124;43m'\u001b[39;49m\u001b[43m,\u001b[49m\u001b[43m \u001b[49m\u001b[43maxis\u001b[49m\u001b[43m,\u001b[49m\u001b[43m \u001b[49m\u001b[38;5;28;43;01mNone\u001b[39;49;00m\u001b[43m,\u001b[49m\u001b[43m \u001b[49m\u001b[43mout\u001b[49m\u001b[43m,\u001b[49m\n\u001b[0;32m   2811\u001b[0m \u001b[43m                          \u001b[49m\u001b[43mkeepdims\u001b[49m\u001b[38;5;241;43m=\u001b[39;49m\u001b[43mkeepdims\u001b[49m\u001b[43m,\u001b[49m\u001b[43m \u001b[49m\u001b[43minitial\u001b[49m\u001b[38;5;241;43m=\u001b[39;49m\u001b[43minitial\u001b[49m\u001b[43m,\u001b[49m\u001b[43m \u001b[49m\u001b[43mwhere\u001b[49m\u001b[38;5;241;43m=\u001b[39;49m\u001b[43mwhere\u001b[49m\u001b[43m)\u001b[49m\n",
      "File \u001b[1;32mc:\\Users\\alexe\\Downloads\\ESI_project 2\\ESI_project 2\\.venv\\lib\\site-packages\\numpy\\core\\fromnumeric.py:88\u001b[0m, in \u001b[0;36m_wrapreduction\u001b[1;34m(obj, ufunc, method, axis, dtype, out, **kwargs)\u001b[0m\n\u001b[0;32m     85\u001b[0m         \u001b[38;5;28;01melse\u001b[39;00m:\n\u001b[0;32m     86\u001b[0m             \u001b[38;5;28;01mreturn\u001b[39;00m reduction(axis\u001b[38;5;241m=\u001b[39maxis, out\u001b[38;5;241m=\u001b[39mout, \u001b[38;5;241m*\u001b[39m\u001b[38;5;241m*\u001b[39mpasskwargs)\n\u001b[1;32m---> 88\u001b[0m \u001b[38;5;28;01mreturn\u001b[39;00m ufunc\u001b[38;5;241m.\u001b[39mreduce(obj, axis, dtype, out, \u001b[38;5;241m*\u001b[39m\u001b[38;5;241m*\u001b[39mpasskwargs)\n",
      "\u001b[1;31mAxisError\u001b[0m: axis 1 is out of bounds for array of dimension 1"
     ]
    }
   ],
   "source": [
    "\"\"\"\n",
    "The subject underwent four tasks, and corresponding EEG data were collected.\n",
    "task list: ['LA','LV','RA','RV']\n",
    "\"\"\"\n",
    "# you can choose single or multiple task ids from task list ['LA','LV','RA','RV']\n",
    "tasks = ['LA', 'LV'] # or 'LA' or ['LA'], etc.\n",
    "# set your result path\n",
    "result_path = './result/'\n",
    "ConvDip_ESI(tasks, result_path)"
   ]
  },
  {
   "cell_type": "code",
   "execution_count": null,
   "id": "417f0ce4-63f6-43d7-a5e0-45b0fcde8611",
   "metadata": {},
   "outputs": [
    {
     "name": "stdout",
     "output_type": "stream",
     "text": [
      "load result for task: LA\n",
      "(1984, 241)\n"
     ]
    }
   ],
   "source": [
    "# choose only ONE task from ['LA','LV','RA','RV']\n",
    "task = 'LA' \n",
    "s_pred = load_result(task, result_path)\n",
    "print(s_pred.shape) # s_pred: estimated sources at different timepoints"
   ]
  },
  {
   "cell_type": "markdown",
   "id": "cc6838b1-be32-4b25-b9fc-b67bb05ad767",
   "metadata": {},
   "source": [
    "# 2. 3D Visualization"
   ]
  },
  {
   "cell_type": "code",
   "execution_count": null,
   "id": "10453c03-395e-4c1f-a004-e1cbd19f9001",
   "metadata": {},
   "outputs": [],
   "source": [
    "%run brain.ipynb"
   ]
  },
  {
   "cell_type": "code",
   "execution_count": null,
   "id": "695efb0b-c329-4e8c-8af9-0e06cd227f06",
   "metadata": {},
   "outputs": [
    {
     "name": "stdout",
     "output_type": "stream",
     "text": [
      "Opening raw data file C:\\Users\\alexe\\mne_data\\MNE-sample-data\\MEG\\sample\\sample_audvis_filt-0-40_raw.fif...\n",
      "    Read a total of 4 projection items:\n",
      "        PCA-v1 (1 x 102)  idle\n",
      "        PCA-v2 (1 x 102)  idle\n",
      "        PCA-v3 (1 x 102)  idle\n",
      "        Average EEG reference (1 x 60)  idle\n",
      "    Range : 6450 ... 48149 =     42.956 ...   320.665 secs\n",
      "Ready.\n",
      "319 events found on stim channel STI 014\n",
      "Event IDs: [ 1  2  3  4  5 32]\n",
      "Removing projector <Projection | Average EEG reference, active : False, n_channels : 60>\n",
      "Not setting metadata\n",
      "72 matching events found\n",
      "Setting baseline interval to [-0.19979521315838786, 0.0] s\n",
      "Applying baseline correction (mode: mean)\n",
      "Created an SSP operator (subspace dimension = 3)\n",
      "Loading data for 72 events and 106 original time points ...\n",
      "    Rejecting  epoch based on EOG : ['EOG 061']\n",
      "    Rejecting  epoch based on EOG : ['EOG 061']\n",
      "    Rejecting  epoch based on EOG : ['EOG 061']\n",
      "    Rejecting  epoch based on EOG : ['EOG 061']\n",
      "    Rejecting  epoch based on EOG : ['EOG 061']\n",
      "    Rejecting  epoch based on MAG : ['MEG 1711']\n",
      "    Rejecting  epoch based on EOG : ['EOG 061']\n",
      "    Rejecting  epoch based on EOG : ['EOG 061']\n",
      "    Rejecting  epoch based on EOG : ['EOG 061']\n",
      "    Rejecting  epoch based on EOG : ['EOG 061']\n",
      "    Rejecting  epoch based on EOG : ['EOG 061']\n",
      "    Rejecting  epoch based on EOG : ['EOG 061']\n",
      "    Rejecting  epoch based on EOG : ['EOG 061']\n",
      "    Rejecting  epoch based on EOG : ['EOG 061']\n",
      "    Rejecting  epoch based on EOG : ['EOG 061']\n",
      "    Rejecting  epoch based on EOG : ['EOG 061']\n",
      "    Rejecting  epoch based on EOG : ['EOG 061']\n",
      "17 bad epochs dropped\n",
      "Computing rank from data with rank=None\n",
      "    Using tolerance 4.1e-09 (2.2e-16 eps * 305 dim * 6.1e+04  max singular value)\n",
      "    Estimated rank (mag + grad): 302\n",
      "    MEG: rank 302 computed from 305 data channels with 3 projectors\n",
      "    Created an SSP operator (subspace dimension = 3)\n",
      "    Setting small MEG eigenvalues to zero (without PCA)\n",
      "Reducing data rank from 305 -> 302\n",
      "Estimating covariance using EMPIRICAL\n",
      "Done.\n",
      "Number of samples used : 2035\n",
      "[done]\n",
      "Computing rank from data with rank=None\n",
      "    Using tolerance 2.8e-09 (2.2e-16 eps * 305 dim * 4.2e+04  max singular value)\n",
      "    Estimated rank (mag + grad): 302\n",
      "    MEG: rank 302 computed from 305 data channels with 3 projectors\n",
      "    Created an SSP operator (subspace dimension = 3)\n",
      "    Setting small MEG eigenvalues to zero (without PCA)\n",
      "Reducing data rank from 305 -> 302\n",
      "Estimating covariance using EMPIRICAL\n",
      "Done.\n",
      "Number of samples used : 1705\n",
      "[done]\n",
      "Reading forward solution from c:\\Users\\alexe\\Downloads\\ESI_project 2\\ESI_project 2\\data\\meg-fwd.fif...\n",
      "    Reading a source space...\n",
      "    Computing patch statistics...\n",
      "    Patch information added...\n",
      "    [done]\n",
      "    Reading a source space...\n",
      "    Computing patch statistics...\n",
      "    Patch information added...\n",
      "    [done]\n",
      "    2 source spaces read\n",
      "    Desired named matrix (kind = 3523) not available\n",
      "    Read MEG forward solution (1984 sources, 102 channels, free orientations)\n",
      "    Source spaces transformed to the forward solution coordinate frame\n",
      "Computing rank from covariance with rank=None\n",
      "    Using tolerance 4e-14 (2.2e-16 eps * 102 dim * 1.8  max singular value)\n",
      "    Estimated rank (mag): 99\n",
      "    MAG: rank 99 computed from 102 data channels with 3 projectors\n",
      "Computing rank from covariance with rank=None\n",
      "    Using tolerance 2.3e-14 (2.2e-16 eps * 102 dim * 1  max singular value)\n",
      "    Estimated rank (mag): 99\n",
      "    MAG: rank 99 computed from 102 data channels with 3 projectors\n",
      "Making LCMV beamformer with rank {'mag': 99}\n",
      "Computing inverse operator with 102 channels.\n",
      "    102 out of 102 channels remain after picking\n",
      "Selected 102 channels\n",
      "Whitening the forward solution.\n",
      "    Created an SSP operator (subspace dimension = 3)\n",
      "Computing rank from covariance with rank={'mag': 99}\n",
      "    Setting small MAG eigenvalues to zero (without PCA)\n",
      "Creating the source covariance matrix\n",
      "Adjusting source covariance matrix.\n",
      "Computing beamformer filters for 1984 sources\n",
      "Filter computation complete\n",
      "Computing rank from covariance with rank=None\n",
      "    Using tolerance 4e-14 (2.2e-16 eps * 102 dim * 1.8  max singular value)\n",
      "    Estimated rank (mag): 99\n",
      "    MAG: rank 99 computed from 102 data channels with 3 projectors\n",
      "Computing rank from covariance with rank=None\n",
      "    Using tolerance 2.3e-14 (2.2e-16 eps * 102 dim * 1  max singular value)\n",
      "    Estimated rank (mag): 99\n",
      "    MAG: rank 99 computed from 102 data channels with 3 projectors\n",
      "Making LCMV beamformer with rank {'mag': 99}\n",
      "Computing inverse operator with 102 channels.\n",
      "    102 out of 102 channels remain after picking\n",
      "Selected 102 channels\n",
      "Whitening the forward solution.\n",
      "    Created an SSP operator (subspace dimension = 3)\n",
      "Computing rank from covariance with rank={'mag': 99}\n",
      "    Setting small MAG eigenvalues to zero (without PCA)\n",
      "Creating the source covariance matrix\n",
      "Adjusting source covariance matrix.\n",
      "Computing beamformer filters for 1984 sources\n",
      "Filter computation complete\n",
      "<SourceEstimate | 1984 vertices, subject : sample, tmin : 53.27872350890343 (ms), tmax : 153.1763300880974 (ms), tstep : 6.659840438612929 (ms), data shape : (1984, 16), ~264 kB>\n",
      "Using notebook 3d backend.\n",
      "\n",
      "Using control points [0.04148848 0.04522559 0.06564754]\n"
     ]
    },
    {
     "data": {
      "application/vnd.jupyter.widget-view+json": {
       "model_id": "a28307dd74a24de8b0d7bf6f0ff4418e",
       "version_major": 2,
       "version_minor": 0
      },
      "text/plain": [
       "HBox(children=(Dropdown(layout=Layout(margin='2px 0px 2px 0px', min_width='0px'), options=('Help', 'Show MNE k…"
      ]
     },
     "metadata": {},
     "output_type": "display_data"
    },
    {
     "data": {
      "application/vnd.jupyter.widget-view+json": {
       "model_id": "8c58a00d3f294e99b33a23b3dd20e2cb",
       "version_major": 2,
       "version_minor": 0
      },
      "text/plain": [
       "HBox(children=(Button(icon='history', layout=Layout(margin='2px 0px 2px 0px', min_width='0px', width='50px'), …"
      ]
     },
     "metadata": {},
     "output_type": "display_data"
    },
    {
     "data": {
      "application/vnd.jupyter.widget-view+json": {
       "model_id": "e97b96151ce34ff8b7eab6772fc5152b",
       "version_major": 2,
       "version_minor": 0
      },
      "text/plain": [
       "HBox(children=(VBox(children=(VBox(children=(HTML(value='<strong></strong>'), VBox(children=(HTML(value='Time …"
      ]
     },
     "metadata": {},
     "output_type": "display_data"
    },
    {
     "data": {
      "application/vnd.jupyter.widget-view+json": {
       "model_id": "79ea6f0560df405cb8b372bdbd672b39",
       "version_major": 2,
       "version_minor": 0
      },
      "text/plain": [
       "HBox(children=(Text(value='Press ? for help', disabled=True, layout=Layout(margin='2px 0px 2px 0px', min_width…"
      ]
     },
     "metadata": {},
     "output_type": "display_data"
    },
    {
     "data": {
      "application/vnd.jupyter.widget-view+json": {
       "model_id": "93dae430c6a44125858f0c4407db4548",
       "version_major": 2,
       "version_minor": 0
      },
      "text/plain": [
       "VBox(children=(HBox(children=(Button(icon='chevron-up', layout=Layout(flex='auto 1 auto', width='auto'), style…"
      ]
     },
     "metadata": {},
     "output_type": "display_data"
    }
   ],
   "source": [
    "\"\"\"\n",
    "hemi: Hemisphere id (ie ‘lh’, ‘rh’, ‘both’, or ‘split’). \n",
    "In the case of ‘lh’, only left hemisphere is shown in the window. \n",
    "In the case of ‘rh’, only right hemispheres is shown in the window. \n",
    "In the case of ‘both’, both hemispheres are shown in the same window. \n",
    "In the case of ‘split’ hemispheres are displayed side-by-side in different viewing panes.\n",
    "\"\"\"\n",
    "\n",
    "hemi='split' # choose from ['lh', 'rh', 'split', 'both']\n",
    "brain3d(s_pred, hemi)\n"
   ]
  },
  {
   "cell_type": "code",
   "execution_count": null,
   "id": "a4d04f4c-e3ff-49c7-bb34-fe6105612795",
   "metadata": {},
   "outputs": [],
   "source": []
  }
 ],
 "metadata": {
  "kernelspec": {
   "display_name": "Python 3 (ipykernel)",
   "language": "python",
   "name": "python3"
  },
  "language_info": {
   "codemirror_mode": {
    "name": "ipython",
    "version": 3
   },
   "file_extension": ".py",
   "mimetype": "text/x-python",
   "name": "python",
   "nbconvert_exporter": "python",
   "pygments_lexer": "ipython3",
   "version": "3.10.6"
  }
 },
 "nbformat": 4,
 "nbformat_minor": 5
}
