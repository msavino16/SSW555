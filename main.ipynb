{
 "cells": [
  {
   "cell_type": "markdown",
   "id": "36025c09-2da3-4839-8cef-f572d187b7b4",
   "metadata": {},
   "source": [
    "# 1. Brain Source Localization with ConvDip"
   ]
  },
  {
   "cell_type": "code",
   "execution_count": null,
   "id": "7420bf1a-efa8-4c24-8ad4-e8ca759fabb3",
   "metadata": {},
   "outputs": [],
   "source": [
    "%run functions.ipynb"
   ]
  },
  {
   "cell_type": "code",
   "execution_count": null,
   "id": "357c69a8-2553-4cf8-9f91-a63437d4aeaa",
   "metadata": {},
   "outputs": [],
   "source": [
    "\"\"\"\n",
    "The subject underwent four tasks, and corresponding EEG data were collected.\n",
    "task list: ['LA','LV','RA','RV']\n",
    "\"\"\"\n",
    "# you can choose single or multiple task ids from task list ['LA','LV','RA','RV']\n",
    "tasks = ['LA', 'LV'] # or 'LA' or ['LA'], etc.\n",
    "# set your result path\n",
    "result_path = './result/'\n",
    "ConvDip_ESI(tasks, result_path)"
   ]
  },
  {
   "cell_type": "code",
   "execution_count": null,
   "id": "417f0ce4-63f6-43d7-a5e0-45b0fcde8611",
   "metadata": {},
   "outputs": [],
   "source": [
    "# choose only ONE task from ['LA','LV','RA','RV']\n",
    "task = 'LA' \n",
    "s_pred = load_result(task, result_path)\n",
    "print(s_pred.shape) # s_pred: estimated sources at different timepoints"
   ]
  },
  {
   "cell_type": "markdown",
   "id": "cc6838b1-be32-4b25-b9fc-b67bb05ad767",
   "metadata": {},
   "source": [
    "# 2. 3D Visualization"
   ]
  },
  {
   "cell_type": "code",
   "execution_count": null,
   "id": "10453c03-395e-4c1f-a004-e1cbd19f9001",
   "metadata": {},
   "outputs": [],
   "source": [
    "%run brain.ipynb"
   ]
  },
  {
   "cell_type": "code",
   "execution_count": null,
   "id": "695efb0b-c329-4e8c-8af9-0e06cd227f06",
   "metadata": {},
   "outputs": [],
   "source": [
    "\"\"\"\n",
    "hemi: Hemisphere id (ie ‘lh’, ‘rh’, ‘both’, or ‘split’). \n",
    "In the case of ‘lh’, only left hemisphere is shown in the window. \n",
    "In the case of ‘rh’, only right hemispheres is shown in the window. \n",
    "In the case of ‘both’, both hemispheres are shown in the same window. \n",
    "In the case of ‘split’ hemispheres are displayed side-by-side in different viewing panes.\n",
    "\"\"\"\n",
    "\n",
    "hemi='split' # choose from ['lh', 'rh', 'split', 'both']\n",
    "brain3d(s_pred, hemi)\n"
   ]
  },
  {
   "cell_type": "code",
   "execution_count": null,
   "id": "a4d04f4c-e3ff-49c7-bb34-fe6105612795",
   "metadata": {},
   "outputs": [],
   "source": []
  }
 ],
 "metadata": {
  "kernelspec": {
   "display_name": "Python 3 (ipykernel)",
   "language": "python",
   "name": "python3"
  },
  "language_info": {
   "codemirror_mode": {
    "name": "ipython",
    "version": 3
   },
   "file_extension": ".py",
   "mimetype": "text/x-python",
   "name": "python",
   "nbconvert_exporter": "python",
   "pygments_lexer": "ipython3",
   "version": "3.12.2"
  }
 },
 "nbformat": 4,
 "nbformat_minor": 5
}
