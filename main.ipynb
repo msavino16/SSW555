{
 "cells": [
  {
   "cell_type": "markdown",
   "id": "36025c09-2da3-4839-8cef-f572d187b7b4",
   "metadata": {},
   "source": [
    "# 1. Brain Source Localization with ConvDip"
   ]
  },
  {
   "cell_type": "code",
   "execution_count": 9,
   "id": "7420bf1a-efa8-4c24-8ad4-e8ca759fabb3",
   "metadata": {},
   "outputs": [],
   "source": [
    "%run functions.ipynb"
   ]
  },
  {
   "cell_type": "code",
   "execution_count": 10,
   "id": "357c69a8-2553-4cf8-9f91-a63437d4aeaa",
   "metadata": {},
   "outputs": [
    {
     "name": "stdout",
     "output_type": "stream",
     "text": [
      "processing task: LA\n",
      "(59, 3)\n",
      "result saved in: ./result//sample/Test_result_evoked_LA.mat\n",
      "processing task: LV\n",
      "(59, 3)\n",
      "result saved in: ./result//sample/Test_result_evoked_LV.mat\n"
     ]
    }
   ],
   "source": [
    "\"\"\"\n",
    "The subject underwent four tasks, and corresponding EEG data were collected.\n",
    "task list: ['LA','LV','RA','RV']\n",
    "\"\"\"\n",
    "# you can choose single or multiple task ids from task list ['LA','LV','RA','RV']\n",
    "tasks = ['LA', 'LV'] # or 'LA' or ['LA'], etc.\n",
    "# set your result path\n",
    "result_path = './result/'\n",
    "ConvDip_ESI(tasks, result_path)"
   ]
  },
  {
   "cell_type": "code",
   "execution_count": 11,
   "id": "417f0ce4-63f6-43d7-a5e0-45b0fcde8611",
   "metadata": {},
   "outputs": [
    {
     "name": "stdout",
     "output_type": "stream",
     "text": [
      "load result for task: LA\n",
      "(1984, 241)\n"
     ]
    }
   ],
   "source": [
    "# choose only ONE task from ['LA','LV','RA','RV']\n",
    "task = 'LA' \n",
    "s_pred = load_result(task, result_path)\n",
    "print(s_pred.shape) # s_pred: estimated sources at different timepoints"
   ]
  },
  {
   "cell_type": "markdown",
   "id": "cc6838b1-be32-4b25-b9fc-b67bb05ad767",
   "metadata": {},
   "source": [
    "# 2. 3D Visualization"
   ]
  },
  {
   "cell_type": "code",
   "execution_count": 12,
   "id": "10453c03-395e-4c1f-a004-e1cbd19f9001",
   "metadata": {},
   "outputs": [],
   "source": [
    "%run brain.ipynb"
   ]
  },
  {
   "cell_type": "code",
   "execution_count": 13,
   "id": "695efb0b-c329-4e8c-8af9-0e06cd227f06",
   "metadata": {},
   "outputs": [
    {
     "name": "stdout",
     "output_type": "stream",
     "text": [
      "Opening raw data file C:\\Users\\iceki\\mne_data\\MNE-sample-data\\MEG\\sample\\sample_audvis_filt-0-40_raw.fif...\n",
      "    Read a total of 4 projection items:\n",
      "        PCA-v1 (1 x 102)  idle\n",
      "        PCA-v2 (1 x 102)  idle\n",
      "        PCA-v3 (1 x 102)  idle\n",
      "        Average EEG reference (1 x 60)  idle\n",
      "    Range : 6450 ... 48149 =     42.956 ...   320.665 secs\n",
      "Ready.\n",
      "319 events found on stim channel STI 014\n",
      "Event IDs: [ 1  2  3  4  5 32]\n",
      "Not setting metadata\n",
      "72 matching events found\n",
      "Setting baseline interval to [-0.19979521315838786, 0.0] s\n",
      "Applying baseline correction (mode: mean)\n",
      "Created an SSP operator (subspace dimension = 3)\n",
      "Loading data for 72 events and 106 original time points ...\n",
      "    Rejecting  epoch based on EOG : ['EOG 061']\n",
      "    Rejecting  epoch based on EOG : ['EOG 061']\n",
      "    Rejecting  epoch based on EOG : ['EOG 061']\n",
      "    Rejecting  epoch based on EOG : ['EOG 061']\n",
      "    Rejecting  epoch based on EOG : ['EOG 061']\n",
      "    Rejecting  epoch based on MAG : ['MEG 1711']\n",
      "    Rejecting  epoch based on EOG : ['EOG 061']\n",
      "    Rejecting  epoch based on EOG : ['EOG 061']\n",
      "    Rejecting  epoch based on EOG : ['EOG 061']\n",
      "    Rejecting  epoch based on EOG : ['EOG 061']\n",
      "    Rejecting  epoch based on EOG : ['EOG 061']\n",
      "    Rejecting  epoch based on EOG : ['EOG 061']\n",
      "    Rejecting  epoch based on EOG : ['EOG 061']\n",
      "    Rejecting  epoch based on EOG : ['EOG 061']\n",
      "    Rejecting  epoch based on EOG : ['EOG 061']\n",
      "    Rejecting  epoch based on EOG : ['EOG 061']\n",
      "    Rejecting  epoch based on EOG : ['EOG 061']\n",
      "17 bad epochs dropped\n",
      "    Created an SSP operator (subspace dimension = 3)\n",
      "    Setting small MEG eigenvalues to zero (without PCA)\n",
      "Reducing data rank from 305 -> 302\n",
      "Estimating covariance using EMPIRICAL\n",
      "Done.\n",
      "Number of samples used : 2035\n",
      "[done]\n",
      "    Created an SSP operator (subspace dimension = 3)\n",
      "    Setting small MEG eigenvalues to zero (without PCA)\n",
      "Reducing data rank from 305 -> 302\n",
      "Estimating covariance using EMPIRICAL\n",
      "Done.\n",
      "Number of samples used : 1705\n",
      "[done]\n",
      "Reading forward solution from c:\\Users\\iceki\\Documents\\GitHub\\SSW555-Group22\\data\\meg-fwd.fif...\n",
      "    Reading a source space...\n",
      "    Computing patch statistics...\n",
      "    Patch information added...\n",
      "    [done]\n",
      "    Reading a source space...\n",
      "    Computing patch statistics...\n",
      "    Patch information added...\n",
      "    [done]\n",
      "    2 source spaces read\n",
      "    Desired named matrix (kind = 3523) not available\n",
      "    Read MEG forward solution (1984 sources, 102 channels, free orientations)\n",
      "    Source spaces transformed to the forward solution coordinate frame\n",
      "Excluding 203 channel(s) missing from the provided forward operator and/or covariance matrices\n",
      "Computing rank from covariance with rank=None\n",
      "    Using tolerance 4e-14 (2.2e-16 eps * 102 dim * 1.8  max singular value)\n",
      "    Estimated rank (mag): 99\n",
      "    MAG: rank 99 computed from 102 data channels with 3 projectors\n",
      "Computing rank from covariance with rank=None\n",
      "    Using tolerance 2.3e-14 (2.2e-16 eps * 102 dim * 1  max singular value)\n",
      "    Estimated rank (mag): 99\n",
      "    MAG: rank 99 computed from 102 data channels with 3 projectors\n",
      "Making LCMV beamformer with rank {'mag': 99}\n",
      "Computing inverse operator with 102 channels.\n",
      "    102 out of 102 channels remain after picking\n",
      "Selected 102 channels\n",
      "Whitening the forward solution.\n",
      "    Created an SSP operator (subspace dimension = 3)\n",
      "Computing rank from covariance with rank={'mag': 99}\n",
      "    Setting small MAG eigenvalues to zero (without PCA)\n",
      "Creating the source covariance matrix\n",
      "Adjusting source covariance matrix.\n",
      "Computing beamformer filters for 1984 sources\n",
      "Filter computation complete\n",
      "Excluding 203 channel(s) missing from the provided forward operator and/or covariance matrices\n",
      "Computing rank from covariance with rank=None\n",
      "    Using tolerance 4e-14 (2.2e-16 eps * 102 dim * 1.8  max singular value)\n",
      "    Estimated rank (mag): 99\n",
      "    MAG: rank 99 computed from 102 data channels with 3 projectors\n",
      "Computing rank from covariance with rank=None\n",
      "    Using tolerance 2.3e-14 (2.2e-16 eps * 102 dim * 1  max singular value)\n",
      "    Estimated rank (mag): 99\n",
      "    MAG: rank 99 computed from 102 data channels with 3 projectors\n",
      "Making LCMV beamformer with rank {'mag': 99}\n",
      "Computing inverse operator with 102 channels.\n",
      "    102 out of 102 channels remain after picking\n",
      "Selected 102 channels\n",
      "Whitening the forward solution.\n",
      "    Created an SSP operator (subspace dimension = 3)\n",
      "Computing rank from covariance with rank={'mag': 99}\n",
      "    Setting small MAG eigenvalues to zero (without PCA)\n",
      "Creating the source covariance matrix\n",
      "Adjusting source covariance matrix.\n",
      "Computing beamformer filters for 1984 sources\n",
      "Filter computation complete\n",
      "<SourceEstimate | 1984 vertices, subject : sample, tmin : 53.27872350890343 (ms), tmax : 153.1763300880974 (ms), tstep : 6.659840438612929 (ms), data shape : (1984, 16), ~264 kB>\n",
      "Using control points [0.04148847 0.04522558 0.06564752]\n"
     ]
    },
    {
     "data": {
      "application/vnd.jupyter.widget-view+json": {
       "model_id": "a5a9afe0edd0454987fbf8ade0e414ba",
       "version_major": 2,
       "version_minor": 0
      },
      "text/plain": [
       "HBox(children=(Dropdown(layout=Layout(margin='2px 0px 2px 0px', min_width='0px'), options=('Help', 'Show MNE k…"
      ]
     },
     "metadata": {},
     "output_type": "display_data"
    },
    {
     "data": {
      "application/vnd.jupyter.widget-view+json": {
       "model_id": "32325542cc604b8ab4a32462857365ed",
       "version_major": 2,
       "version_minor": 0
      },
      "text/plain": [
       "HBox(children=(Button(icon='history', layout=Layout(margin='2px 0px 2px 0px', min_width='0px', width='50px'), …"
      ]
     },
     "metadata": {},
     "output_type": "display_data"
    },
    {
     "ename": "AttributeError",
     "evalue": "'Image' object has no attribute 'value'",
     "output_type": "error",
     "traceback": [
      "\u001b[1;31m---------------------------------------------------------------------------\u001b[0m",
      "\u001b[1;31mAttributeError\u001b[0m                            Traceback (most recent call last)",
      "Cell \u001b[1;32mIn[13], line 10\u001b[0m\n\u001b[0;32m      1\u001b[0m \u001b[38;5;124;03m\"\"\"\u001b[39;00m\n\u001b[0;32m      2\u001b[0m \u001b[38;5;124;03mhemi: Hemisphere id (ie ‘lh’, ‘rh’, ‘both’, or ‘split’). \u001b[39;00m\n\u001b[0;32m      3\u001b[0m \u001b[38;5;124;03mIn the case of ‘lh’, only left hemisphere is shown in the window. \u001b[39;00m\n\u001b[1;32m   (...)\u001b[0m\n\u001b[0;32m      6\u001b[0m \u001b[38;5;124;03mIn the case of ‘split’ hemispheres are displayed side-by-side in different viewing panes.\u001b[39;00m\n\u001b[0;32m      7\u001b[0m \u001b[38;5;124;03m\"\"\"\u001b[39;00m\n\u001b[0;32m      9\u001b[0m hemi\u001b[38;5;241m=\u001b[39m\u001b[38;5;124m'\u001b[39m\u001b[38;5;124msplit\u001b[39m\u001b[38;5;124m'\u001b[39m \u001b[38;5;66;03m# choose from ['lh', 'rh', 'split', 'both']\u001b[39;00m\n\u001b[1;32m---> 10\u001b[0m \u001b[43mbrain3d\u001b[49m\u001b[43m(\u001b[49m\u001b[43ms_pred\u001b[49m\u001b[43m,\u001b[49m\u001b[43m \u001b[49m\u001b[43mhemi\u001b[49m\u001b[43m)\u001b[49m\n",
      "File \u001b[1;32m~\\AppData\\Local\\Temp\\ipykernel_33024\\3785389983.py:7\u001b[0m, in \u001b[0;36mbrain3d\u001b[1;34m(s_pred, hemi)\u001b[0m\n\u001b[0;32m      5\u001b[0m data_path \u001b[38;5;241m=\u001b[39m sample\u001b[38;5;241m.\u001b[39mdata_path()\n\u001b[0;32m      6\u001b[0m subjects_dir \u001b[38;5;241m=\u001b[39m data_path \u001b[38;5;241m/\u001b[39m \u001b[38;5;124m'\u001b[39m\u001b[38;5;124msubjects\u001b[39m\u001b[38;5;124m'\u001b[39m\n\u001b[1;32m----> 7\u001b[0m brain \u001b[38;5;241m=\u001b[39m \u001b[43mmne\u001b[49m\u001b[38;5;241;43m.\u001b[39;49m\u001b[43mviz\u001b[49m\u001b[38;5;241;43m.\u001b[39;49m\u001b[43mplot_source_estimates\u001b[49m\u001b[43m(\u001b[49m\n\u001b[0;32m      8\u001b[0m \u001b[43m        \u001b[49m\u001b[43mstc\u001b[49m\u001b[43m,\u001b[49m\u001b[43m \u001b[49m\n\u001b[0;32m      9\u001b[0m \u001b[43m        \u001b[49m\u001b[38;5;66;43;03m# views= #'lateral', \u001b[39;49;00m\n\u001b[0;32m     10\u001b[0m \u001b[43m        \u001b[49m\u001b[43mhemi\u001b[49m\u001b[38;5;241;43m=\u001b[39;49m\u001b[43mhemi\u001b[49m\u001b[43m,\u001b[49m\u001b[43m \u001b[49m\u001b[38;5;66;43;03m#'split', #'both', \u001b[39;49;00m\n\u001b[0;32m     11\u001b[0m \u001b[43m        \u001b[49m\u001b[43msurface\u001b[49m\u001b[38;5;241;43m=\u001b[39;49m\u001b[38;5;124;43m'\u001b[39;49m\u001b[38;5;124;43mwhite\u001b[39;49m\u001b[38;5;124;43m'\u001b[39;49m\u001b[43m,\u001b[49m\u001b[43m \u001b[49m\u001b[38;5;66;43;03m#'inflated'\u001b[39;49;00m\n\u001b[0;32m     12\u001b[0m \u001b[43m        \u001b[49m\u001b[43mbackground\u001b[49m\u001b[38;5;241;43m=\u001b[39;49m\u001b[38;5;124;43m'\u001b[39;49m\u001b[38;5;124;43mwhite\u001b[39;49m\u001b[38;5;124;43m'\u001b[39;49m\u001b[43m,\u001b[49m\n\u001b[0;32m     13\u001b[0m \u001b[43m        \u001b[49m\u001b[43msize\u001b[49m\u001b[38;5;241;43m=\u001b[39;49m\u001b[43m(\u001b[49m\u001b[38;5;241;43m1000\u001b[39;49m\u001b[43m,\u001b[49m\u001b[43m \u001b[49m\u001b[38;5;241;43m400\u001b[39;49m\u001b[43m)\u001b[49m\u001b[43m,\u001b[49m\n\u001b[0;32m     14\u001b[0m \u001b[43m        \u001b[49m\u001b[43msubjects_dir\u001b[49m\u001b[38;5;241;43m=\u001b[39;49m\u001b[43msubjects_dir\u001b[49m\u001b[43m,\u001b[49m\u001b[43m \u001b[49m\n\u001b[0;32m     15\u001b[0m \u001b[43m        \u001b[49m\u001b[38;5;66;43;03m# time_viewer=False, \u001b[39;49;00m\n\u001b[0;32m     16\u001b[0m \u001b[43m        \u001b[49m\u001b[43mshow_traces\u001b[49m\u001b[38;5;241;43m=\u001b[39;49m\u001b[38;5;28;43;01mFalse\u001b[39;49;00m\u001b[43m,\u001b[49m\u001b[43m \u001b[49m\n\u001b[0;32m     17\u001b[0m \u001b[43m        \u001b[49m\u001b[38;5;66;43;03m# colorbar=False,\u001b[39;49;00m\n\u001b[0;32m     18\u001b[0m \u001b[43m        \u001b[49m\u001b[43m)\u001b[49m\n",
      "File \u001b[1;32m<decorator-gen-187>:12\u001b[0m, in \u001b[0;36mplot_source_estimates\u001b[1;34m(stc, subject, surface, hemi, colormap, time_label, smoothing_steps, transparent, alpha, time_viewer, subjects_dir, figure, views, colorbar, clim, cortex, size, background, foreground, initial_time, time_unit, backend, spacing, title, show_traces, src, volume_options, view_layout, add_data_kwargs, brain_kwargs, verbose)\u001b[0m\n",
      "File \u001b[1;32mc:\\Users\\iceki\\AppData\\Local\\Programs\\Python\\Python312\\Lib\\site-packages\\mne\\viz\\_3d.py:2427\u001b[0m, in \u001b[0;36mplot_source_estimates\u001b[1;34m(stc, subject, surface, hemi, colormap, time_label, smoothing_steps, transparent, alpha, time_viewer, subjects_dir, figure, views, colorbar, clim, cortex, size, background, foreground, initial_time, time_unit, backend, spacing, title, show_traces, src, volume_options, view_layout, add_data_kwargs, brain_kwargs, verbose)\u001b[0m\n\u001b[0;32m   2425\u001b[0m \u001b[38;5;28;01melse\u001b[39;00m:\n\u001b[0;32m   2426\u001b[0m     \u001b[38;5;28;01mwith\u001b[39;00m use_3d_backend(backend):\n\u001b[1;32m-> 2427\u001b[0m         \u001b[38;5;28;01mreturn\u001b[39;00m \u001b[43m_plot_stc\u001b[49m\u001b[43m(\u001b[49m\n\u001b[0;32m   2428\u001b[0m \u001b[43m            \u001b[49m\u001b[43mstc\u001b[49m\u001b[43m,\u001b[49m\n\u001b[0;32m   2429\u001b[0m \u001b[43m            \u001b[49m\u001b[43moverlay_alpha\u001b[49m\u001b[38;5;241;43m=\u001b[39;49m\u001b[43malpha\u001b[49m\u001b[43m,\u001b[49m\n\u001b[0;32m   2430\u001b[0m \u001b[43m            \u001b[49m\u001b[43mbrain_alpha\u001b[49m\u001b[38;5;241;43m=\u001b[39;49m\u001b[43malpha\u001b[49m\u001b[43m,\u001b[49m\n\u001b[0;32m   2431\u001b[0m \u001b[43m            \u001b[49m\u001b[43mvector_alpha\u001b[49m\u001b[38;5;241;43m=\u001b[39;49m\u001b[43malpha\u001b[49m\u001b[43m,\u001b[49m\n\u001b[0;32m   2432\u001b[0m \u001b[43m            \u001b[49m\u001b[43mcortex\u001b[49m\u001b[38;5;241;43m=\u001b[39;49m\u001b[43mcortex\u001b[49m\u001b[43m,\u001b[49m\n\u001b[0;32m   2433\u001b[0m \u001b[43m            \u001b[49m\u001b[43mforeground\u001b[49m\u001b[38;5;241;43m=\u001b[39;49m\u001b[43mforeground\u001b[49m\u001b[43m,\u001b[49m\n\u001b[0;32m   2434\u001b[0m \u001b[43m            \u001b[49m\u001b[43msize\u001b[49m\u001b[38;5;241;43m=\u001b[39;49m\u001b[43msize\u001b[49m\u001b[43m,\u001b[49m\n\u001b[0;32m   2435\u001b[0m \u001b[43m            \u001b[49m\u001b[43mscale_factor\u001b[49m\u001b[38;5;241;43m=\u001b[39;49m\u001b[38;5;28;43;01mNone\u001b[39;49;00m\u001b[43m,\u001b[49m\n\u001b[0;32m   2436\u001b[0m \u001b[43m            \u001b[49m\u001b[43mshow_traces\u001b[49m\u001b[38;5;241;43m=\u001b[39;49m\u001b[43mshow_traces\u001b[49m\u001b[43m,\u001b[49m\n\u001b[0;32m   2437\u001b[0m \u001b[43m            \u001b[49m\u001b[43msrc\u001b[49m\u001b[38;5;241;43m=\u001b[39;49m\u001b[43msrc\u001b[49m\u001b[43m,\u001b[49m\n\u001b[0;32m   2438\u001b[0m \u001b[43m            \u001b[49m\u001b[43mvolume_options\u001b[49m\u001b[38;5;241;43m=\u001b[39;49m\u001b[43mvolume_options\u001b[49m\u001b[43m,\u001b[49m\n\u001b[0;32m   2439\u001b[0m \u001b[43m            \u001b[49m\u001b[43mview_layout\u001b[49m\u001b[38;5;241;43m=\u001b[39;49m\u001b[43mview_layout\u001b[49m\u001b[43m,\u001b[49m\n\u001b[0;32m   2440\u001b[0m \u001b[43m            \u001b[49m\u001b[43madd_data_kwargs\u001b[49m\u001b[38;5;241;43m=\u001b[39;49m\u001b[43madd_data_kwargs\u001b[49m\u001b[43m,\u001b[49m\n\u001b[0;32m   2441\u001b[0m \u001b[43m            \u001b[49m\u001b[43mbrain_kwargs\u001b[49m\u001b[38;5;241;43m=\u001b[39;49m\u001b[43mbrain_kwargs\u001b[49m\u001b[43m,\u001b[49m\n\u001b[0;32m   2442\u001b[0m \u001b[43m            \u001b[49m\u001b[38;5;241;43m*\u001b[39;49m\u001b[38;5;241;43m*\u001b[39;49m\u001b[43mkwargs\u001b[49m\u001b[43m,\u001b[49m\n\u001b[0;32m   2443\u001b[0m \u001b[43m        \u001b[49m\u001b[43m)\u001b[49m\n",
      "File \u001b[1;32mc:\\Users\\iceki\\AppData\\Local\\Programs\\Python\\Python312\\Lib\\site-packages\\mne\\viz\\_3d.py:2597\u001b[0m, in \u001b[0;36m_plot_stc\u001b[1;34m(stc, subject, surface, hemi, colormap, time_label, smoothing_steps, subjects_dir, views, clim, figure, initial_time, time_unit, background, time_viewer, colorbar, transparent, brain_alpha, overlay_alpha, vector_alpha, cortex, foreground, size, scale_factor, show_traces, src, volume_options, view_layout, add_data_kwargs, brain_kwargs)\u001b[0m\n\u001b[0;32m   2594\u001b[0m \u001b[38;5;28;01mdel\u001b[39;00m kwargs\n\u001b[0;32m   2596\u001b[0m \u001b[38;5;28;01mif\u001b[39;00m time_viewer:\n\u001b[1;32m-> 2597\u001b[0m     \u001b[43mbrain\u001b[49m\u001b[38;5;241;43m.\u001b[39;49m\u001b[43msetup_time_viewer\u001b[49m\u001b[43m(\u001b[49m\u001b[43mtime_viewer\u001b[49m\u001b[38;5;241;43m=\u001b[39;49m\u001b[43mtime_viewer\u001b[49m\u001b[43m,\u001b[49m\u001b[43m \u001b[49m\u001b[43mshow_traces\u001b[49m\u001b[38;5;241;43m=\u001b[39;49m\u001b[43mshow_traces\u001b[49m\u001b[43m)\u001b[49m\n\u001b[0;32m   2598\u001b[0m \u001b[38;5;28;01melse\u001b[39;00m:\n\u001b[0;32m   2599\u001b[0m     brain\u001b[38;5;241m.\u001b[39mshow()\n",
      "File \u001b[1;32mc:\\Users\\iceki\\AppData\\Local\\Programs\\Python\\Python312\\Lib\\site-packages\\mne\\viz\\_brain\\_brain.py:608\u001b[0m, in \u001b[0;36mBrain.setup_time_viewer\u001b[1;34m(***failed resolving arguments***)\u001b[0m\n\u001b[0;32m    606\u001b[0m \u001b[38;5;66;03m# show everything at the end\u001b[39;00m\n\u001b[0;32m    607\u001b[0m \u001b[38;5;28mself\u001b[39m\u001b[38;5;241m.\u001b[39mtoggle_interface()\n\u001b[1;32m--> 608\u001b[0m \u001b[38;5;28;43mself\u001b[39;49m\u001b[38;5;241;43m.\u001b[39;49m\u001b[43m_renderer\u001b[49m\u001b[38;5;241;43m.\u001b[39;49m\u001b[43mshow\u001b[49m\u001b[43m(\u001b[49m\u001b[43m)\u001b[49m\n\u001b[0;32m    610\u001b[0m \u001b[38;5;66;03m# sizes could change, update views\u001b[39;00m\n\u001b[0;32m    611\u001b[0m \u001b[38;5;28;01mfor\u001b[39;00m hemi \u001b[38;5;129;01min\u001b[39;00m (\u001b[38;5;124m\"\u001b[39m\u001b[38;5;124mlh\u001b[39m\u001b[38;5;124m\"\u001b[39m, \u001b[38;5;124m\"\u001b[39m\u001b[38;5;124mrh\u001b[39m\u001b[38;5;124m\"\u001b[39m):\n",
      "File \u001b[1;32mc:\\Users\\iceki\\AppData\\Local\\Programs\\Python\\Python312\\Lib\\site-packages\\mne\\viz\\backends\\_notebook.py:1602\u001b[0m, in \u001b[0;36m_Renderer.show\u001b[1;34m(self)\u001b[0m\n\u001b[0;32m   1590\u001b[0m viewer \u001b[38;5;241m=\u001b[39m \u001b[38;5;28mself\u001b[39m\u001b[38;5;241m.\u001b[39mplotter\u001b[38;5;241m.\u001b[39mshow(jupyter_backend\u001b[38;5;241m=\u001b[39m_JUPYTER_BACKEND, return_viewer\u001b[38;5;241m=\u001b[39m\u001b[38;5;28;01mTrue\u001b[39;00m)\n\u001b[0;32m   1591\u001b[0m \u001b[38;5;28;01mif\u001b[39;00m _JUPYTER_BACKEND \u001b[38;5;241m==\u001b[39m \u001b[38;5;124m\"\u001b[39m\u001b[38;5;124mtrame\u001b[39m\u001b[38;5;124m\"\u001b[39m:\n\u001b[0;32m   1592\u001b[0m     \u001b[38;5;66;03m# Remove scrollbars, see https://github.com/pyvista/pyvista/pull/4847\u001b[39;00m\n\u001b[0;32m   1593\u001b[0m     \u001b[38;5;66;03m# which adds this to the iframe PyVista creates. Once that's merged, this\u001b[39;00m\n\u001b[1;32m   (...)\u001b[0m\n\u001b[0;32m   1596\u001b[0m     \u001b[38;5;66;03m# live with the ugly 90's-style borders. We can probably remove once we\u001b[39;00m\n\u001b[0;32m   1597\u001b[0m     \u001b[38;5;66;03m# require PyVista 0.43 (assuming the above PR is merged).\u001b[39;00m\n\u001b[0;32m   1598\u001b[0m     viewer\u001b[38;5;241m.\u001b[39mvalue \u001b[38;5;241m=\u001b[39m re\u001b[38;5;241m.\u001b[39msub(\n\u001b[0;32m   1599\u001b[0m         \u001b[38;5;124mr\u001b[39m\u001b[38;5;124m\"\u001b[39m\u001b[38;5;124m style=[\u001b[39m\u001b[38;5;130;01m\\\"\u001b[39;00m\u001b[38;5;124m'\u001b[39m\u001b[38;5;124m](.+)[\u001b[39m\u001b[38;5;130;01m\\\"\u001b[39;00m\u001b[38;5;124m'\u001b[39m\u001b[38;5;124m]></iframe>\u001b[39m\u001b[38;5;124m\"\u001b[39m,\n\u001b[0;32m   1600\u001b[0m         \u001b[38;5;66;03m# value taken from matplotlib's widget\u001b[39;00m\n\u001b[0;32m   1601\u001b[0m         \u001b[38;5;124mr\u001b[39m\u001b[38;5;124m\"\u001b[39m\u001b[38;5;124m style=\u001b[39m\u001b[38;5;124m'\u001b[39m\u001b[38;5;124m\\\u001b[39m\u001b[38;5;124m1; border: 1px solid rgb(221,221,221);\u001b[39m\u001b[38;5;124m'\u001b[39m\u001b[38;5;124m scrolling=\u001b[39m\u001b[38;5;124m'\u001b[39m\u001b[38;5;124mno\u001b[39m\u001b[38;5;124m'\u001b[39m\u001b[38;5;124m></iframe>\u001b[39m\u001b[38;5;124m\"\u001b[39m,  \u001b[38;5;66;03m# noqa: E501\u001b[39;00m\n\u001b[1;32m-> 1602\u001b[0m         \u001b[43mviewer\u001b[49m\u001b[38;5;241;43m.\u001b[39;49m\u001b[43mvalue\u001b[49m,\n\u001b[0;32m   1603\u001b[0m     )\n\u001b[0;32m   1604\u001b[0m rendering_row \u001b[38;5;241m=\u001b[39m \u001b[38;5;28mlist\u001b[39m()\n\u001b[0;32m   1605\u001b[0m \u001b[38;5;28;01mif\u001b[39;00m \u001b[38;5;28mself\u001b[39m\u001b[38;5;241m.\u001b[39m_docks \u001b[38;5;129;01mis\u001b[39;00m \u001b[38;5;129;01mnot\u001b[39;00m \u001b[38;5;28;01mNone\u001b[39;00m \u001b[38;5;129;01mand\u001b[39;00m \u001b[38;5;124m\"\u001b[39m\u001b[38;5;124mleft\u001b[39m\u001b[38;5;124m\"\u001b[39m \u001b[38;5;129;01min\u001b[39;00m \u001b[38;5;28mself\u001b[39m\u001b[38;5;241m.\u001b[39m_docks:\n",
      "\u001b[1;31mAttributeError\u001b[0m: 'Image' object has no attribute 'value'"
     ]
    }
   ],
   "source": [
    "\"\"\"\n",
    "hemi: Hemisphere id (ie ‘lh’, ‘rh’, ‘both’, or ‘split’). \n",
    "In the case of ‘lh’, only left hemisphere is shown in the window. \n",
    "In the case of ‘rh’, only right hemispheres is shown in the window. \n",
    "In the case of ‘both’, both hemispheres are shown in the same window. \n",
    "In the case of ‘split’ hemispheres are displayed side-by-side in different viewing panes.\n",
    "\"\"\"\n",
    "\n",
    "hemi='split' # choose from ['lh', 'rh', 'split', 'both']\n",
    "brain3d(s_pred, hemi)\n"
   ]
  },
  {
   "cell_type": "code",
   "execution_count": null,
   "id": "06f4673a",
   "metadata": {},
   "outputs": [],
   "source": [
    "%run Unittest.py\n"
   ]
  }
 ],
 "metadata": {
  "kernelspec": {
   "display_name": "Python 3 (ipykernel)",
   "language": "python",
   "name": "python3"
  },
  "language_info": {
   "codemirror_mode": {
    "name": "ipython",
    "version": 3
   },
   "file_extension": ".py",
   "mimetype": "text/x-python",
   "name": "python",
   "nbconvert_exporter": "python",
   "pygments_lexer": "ipython3",
   "version": "3.12.0"
  }
 },
 "nbformat": 4,
 "nbformat_minor": 5
}
