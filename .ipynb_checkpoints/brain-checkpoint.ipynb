{
 "cells": [
  {
   "cell_type": "code",
   "execution_count": 1,
   "id": "64e13b2f-35ad-49fe-834e-e8cbb90c3b13",
   "metadata": {},
   "outputs": [],
   "source": [
    "from pathlib import Path\n",
    "import h5py\n",
    "import numpy as np\n",
    "import matplotlib.pyplot as plt\n",
    "import mne\n",
    "from mne.datasets import sample, fetch_fsaverage\n",
    "from mne.beamformer import make_lcmv, apply_lcmv\n",
    "import matplotlib.pyplot as plt\n",
    "from mpl_toolkits.axes_grid1 import (make_axes_locatable, ImageGrid,\n",
    "                                     inset_locator)\n"
   ]
  },
  {
   "cell_type": "code",
   "execution_count": 2,
   "id": "ec34287d-e7f4-4a2f-ad9d-78b9310abfd2",
   "metadata": {},
   "outputs": [
    {
     "name": "stdout",
     "output_type": "stream",
     "text": [
      "Opening raw data file C:\\Users\\Meng Jiao\\mne_data\\MNE-sample-data\\MEG\\sample\\sample_audvis_filt-0-40_raw.fif...\n",
      "    Read a total of 4 projection items:\n",
      "        PCA-v1 (1 x 102)  idle\n",
      "        PCA-v2 (1 x 102)  idle\n",
      "        PCA-v3 (1 x 102)  idle\n",
      "        Average EEG reference (1 x 60)  idle\n",
      "    Range : 6450 ... 48149 =     42.956 ...   320.665 secs\n",
      "Ready.\n",
      "319 events found\n",
      "Event IDs: [ 1  2  3  4  5 32]\n",
      "Removing projector <Projection | Average EEG reference, active : False, n_channels : 60>\n",
      "Not setting metadata\n",
      "72 matching events found\n",
      "Setting baseline interval to [-0.19979521315838786, 0.0] sec\n",
      "Applying baseline correction (mode: mean)\n",
      "Created an SSP operator (subspace dimension = 3)\n",
      "Loading data for 72 events and 106 original time points ...\n",
      "    Rejecting  epoch based on EOG : ['EOG 061']\n",
      "    Rejecting  epoch based on EOG : ['EOG 061']\n",
      "    Rejecting  epoch based on EOG : ['EOG 061']\n",
      "    Rejecting  epoch based on EOG : ['EOG 061']\n",
      "    Rejecting  epoch based on EOG : ['EOG 061']\n",
      "    Rejecting  epoch based on MAG : ['MEG 1711']\n",
      "    Rejecting  epoch based on EOG : ['EOG 061']\n",
      "    Rejecting  epoch based on EOG : ['EOG 061']\n",
      "    Rejecting  epoch based on EOG : ['EOG 061']\n",
      "    Rejecting  epoch based on EOG : ['EOG 061']\n",
      "    Rejecting  epoch based on EOG : ['EOG 061']\n",
      "    Rejecting  epoch based on EOG : ['EOG 061']\n",
      "    Rejecting  epoch based on EOG : ['EOG 061']\n",
      "    Rejecting  epoch based on EOG : ['EOG 061']\n",
      "    Rejecting  epoch based on EOG : ['EOG 061']\n",
      "    Rejecting  epoch based on EOG : ['EOG 061']\n",
      "    Rejecting  epoch based on EOG : ['EOG 061']\n",
      "17 bad epochs dropped\n"
     ]
    }
   ],
   "source": [
    "data_path = sample.data_path()\n",
    "subjects_dir = data_path / 'subjects'\n",
    "meg_path = data_path / 'MEG' / 'sample'\n",
    "raw_fname = meg_path / 'sample_audvis_filt-0-40_raw.fif'\n",
    "\n",
    "# Read the raw data\n",
    "raw = mne.io.read_raw_fif(raw_fname)\n",
    "raw.info['bads'] = ['MEG 2443']  # bad MEG channel\n",
    "\n",
    "# Set up the epoching\n",
    "event_id = 1  # those are the trials with left-ear auditory stimuli\n",
    "tmin, tmax = -0.2, 0.5\n",
    "events = mne.find_events(raw)\n",
    "\n",
    "# pick relevant channels\n",
    "raw.pick(['meg', 'eog'])  # pick channels of interest\n",
    "\n",
    "# Create epochs\n",
    "proj = False  # already applied\n",
    "epochs = mne.Epochs(raw, events, event_id, tmin, tmax,\n",
    "                    baseline=(None, 0), preload=True, proj=proj,\n",
    "                    reject=dict(grad=4000e-13, mag=4e-12, eog=150e-6))\n",
    "\n",
    "# for speed purposes, cut to a window of interest\n",
    "evoked = epochs.average().crop(0.05, 0.15)\n",
    "\n",
    "# Visualize averaged sensor space data\n",
    "# evoked.plot_joint()\n",
    "\n",
    "del raw  # save memory"
   ]
  },
  {
   "cell_type": "code",
   "execution_count": 3,
   "id": "c5c84308-44d9-4525-967f-ef39a6eda310",
   "metadata": {},
   "outputs": [
    {
     "name": "stdout",
     "output_type": "stream",
     "text": [
      "Computing rank from data with rank=None\n",
      "    Using tolerance 4.1e-09 (2.2e-16 eps * 305 dim * 6.1e+04  max singular value)\n",
      "    Estimated rank (mag + grad): 302\n",
      "    MEG: rank 302 computed from 305 data channels with 3 projectors\n",
      "    Created an SSP operator (subspace dimension = 3)\n",
      "    Setting small MEG eigenvalues to zero (without PCA)\n",
      "Reducing data rank from 305 -> 302\n",
      "Estimating covariance using EMPIRICAL\n",
      "Done.\n",
      "Number of samples used : 2035\n",
      "[done]\n",
      "Computing rank from data with rank=None\n",
      "    Using tolerance 2.8e-09 (2.2e-16 eps * 305 dim * 4.2e+04  max singular value)\n",
      "    Estimated rank (mag + grad): 302\n",
      "    MEG: rank 302 computed from 305 data channels with 3 projectors\n",
      "    Created an SSP operator (subspace dimension = 3)\n",
      "    Setting small MEG eigenvalues to zero (without PCA)\n",
      "Reducing data rank from 305 -> 302\n",
      "Estimating covariance using EMPIRICAL\n",
      "Done.\n",
      "Number of samples used : 1705\n",
      "[done]\n"
     ]
    }
   ],
   "source": [
    "data_cov = mne.compute_covariance(epochs, tmin=0.01, tmax=0.25,\n",
    "                                  method='empirical')\n",
    "noise_cov = mne.compute_covariance(epochs, tmin=tmin, tmax=0,\n",
    "                                   method='empirical')\n",
    "# data_cov.plot(epochs.info)\n",
    "del epochs"
   ]
  },
  {
   "cell_type": "code",
   "execution_count": 4,
   "id": "b88d2f3a-80c3-44d9-9549-1dd6cb2335c4",
   "metadata": {},
   "outputs": [
    {
     "name": "stdout",
     "output_type": "stream",
     "text": [
      "Reading forward solution from C:\\Users\\Meng Jiao\\mjiao_self\\jupyter_projects\\meg-fwd.fif...\n",
      "    Reading a source space...\n",
      "    Computing patch statistics...\n",
      "    Patch information added...\n",
      "    [done]\n",
      "    Reading a source space...\n",
      "    Computing patch statistics...\n",
      "    Patch information added...\n",
      "    [done]\n",
      "    2 source spaces read\n",
      "    Desired named matrix (kind = 3523) not available\n",
      "    Read MEG forward solution (1984 sources, 102 channels, free orientations)\n",
      "    Source spaces transformed to the forward solution coordinate frame\n"
     ]
    }
   ],
   "source": [
    "# Read forward model\n",
    "fwd_fname = 'meg-fwd.fif'\n",
    "forward = mne.read_forward_solution(fwd_fname)\n",
    "\n",
    "# # Read forward model\n",
    "# fwd_fname = 'D:/Head_model_compute/MNE-sample-data/MEG/sample/meg-fwd.fif'\n",
    "# # fwd_fname = meg_path / 'sample_audvis-meg-vol-7-fwd.fif'\n",
    "# forward = mne.read_forward_solution(fwd_fname)"
   ]
  },
  {
   "cell_type": "code",
   "execution_count": 5,
   "id": "acc8e866-dc06-4a86-ba79-8bffd46d282a",
   "metadata": {},
   "outputs": [
    {
     "name": "stdout",
     "output_type": "stream",
     "text": [
      "Computing rank from covariance with rank=None\n",
      "    Using tolerance 4e-14 (2.2e-16 eps * 102 dim * 1.8  max singular value)\n",
      "    Estimated rank (mag): 99\n",
      "    MAG: rank 99 computed from 102 data channels with 3 projectors\n",
      "Computing rank from covariance with rank=None\n",
      "    Using tolerance 2.3e-14 (2.2e-16 eps * 102 dim * 1  max singular value)\n",
      "    Estimated rank (mag): 99\n",
      "    MAG: rank 99 computed from 102 data channels with 3 projectors\n",
      "Making LCMV beamformer with rank {'mag': 99}\n",
      "Computing inverse operator with 102 channels.\n",
      "    102 out of 102 channels remain after picking\n",
      "Selected 102 channels\n",
      "Whitening the forward solution.\n",
      "    Created an SSP operator (subspace dimension = 3)\n",
      "Computing rank from covariance with rank={'mag': 99}\n",
      "    Setting small MAG eigenvalues to zero (without PCA)\n",
      "Creating the source covariance matrix\n",
      "Adjusting source covariance matrix.\n",
      "Computing beamformer filters for 1984 sources\n",
      "Filter computation complete\n"
     ]
    }
   ],
   "source": [
    "filters = make_lcmv(evoked.info, forward, data_cov, reg=0.05,\n",
    "                    noise_cov=noise_cov, pick_ori='max-power',\n",
    "                    weight_norm='unit-noise-gain', rank=None)"
   ]
  },
  {
   "cell_type": "code",
   "execution_count": 6,
   "id": "ff87632b-e0e5-4d3d-83f2-73192cf27204",
   "metadata": {},
   "outputs": [
    {
     "name": "stdout",
     "output_type": "stream",
     "text": [
      "Computing rank from covariance with rank=None\n",
      "    Using tolerance 4e-14 (2.2e-16 eps * 102 dim * 1.8  max singular value)\n",
      "    Estimated rank (mag): 99\n",
      "    MAG: rank 99 computed from 102 data channels with 3 projectors\n",
      "Computing rank from covariance with rank=None\n",
      "    Using tolerance 2.3e-14 (2.2e-16 eps * 102 dim * 1  max singular value)\n",
      "    Estimated rank (mag): 99\n",
      "    MAG: rank 99 computed from 102 data channels with 3 projectors\n",
      "Making LCMV beamformer with rank {'mag': 99}\n",
      "Computing inverse operator with 102 channels.\n",
      "    102 out of 102 channels remain after picking\n",
      "Selected 102 channels\n",
      "Whitening the forward solution.\n",
      "    Created an SSP operator (subspace dimension = 3)\n",
      "Computing rank from covariance with rank={'mag': 99}\n",
      "    Setting small MAG eigenvalues to zero (without PCA)\n",
      "Creating the source covariance matrix\n",
      "Adjusting source covariance matrix.\n",
      "Computing beamformer filters for 1984 sources\n",
      "Filter computation complete\n"
     ]
    }
   ],
   "source": [
    "filters_vec = make_lcmv(evoked.info, forward, data_cov, reg=0.05,\n",
    "                        noise_cov=noise_cov, pick_ori='vector',\n",
    "                        weight_norm='unit-noise-gain-invariant', rank=None)\n",
    "# save a bit of memory\n",
    "src = forward['src']\n",
    "del forward"
   ]
  },
  {
   "cell_type": "code",
   "execution_count": 7,
   "id": "05ffadb3-3391-46af-9c13-9af0dde0f2b5",
   "metadata": {},
   "outputs": [],
   "source": [
    "stc = apply_lcmv(evoked, filters)\n",
    "stc_vec = apply_lcmv(evoked, filters_vec)\n",
    "del filters, filters_vec"
   ]
  },
  {
   "cell_type": "code",
   "execution_count": 8,
   "id": "455e6fe7-0524-495d-b7d8-0bf36470f50d",
   "metadata": {},
   "outputs": [
    {
     "name": "stdout",
     "output_type": "stream",
     "text": [
      "<SourceEstimate | 1984 vertices, subject : sample, tmin : 53.27872350890343 (ms), tmax : 153.1763300880974 (ms), tstep : 6.659840438612929 (ms), data shape : (1984, 16), ~264 kB>\n"
     ]
    }
   ],
   "source": [
    "print(stc)"
   ]
  },
  {
   "cell_type": "code",
   "execution_count": 9,
   "id": "22ae6e76-daae-4916-a128-0f2a0f3d28b7",
   "metadata": {},
   "outputs": [],
   "source": [
    "subjects_dir = data_path / 'subjects'\n",
    "initial_time = 0.1"
   ]
  },
  {
   "cell_type": "code",
   "execution_count": 10,
   "id": "f0e06a87-203b-4049-83c8-17d3c4118875",
   "metadata": {},
   "outputs": [
    {
     "name": "stdout",
     "output_type": "stream",
     "text": [
      "Using pyvistaqt 3d backend.\n",
      "\n"
     ]
    }
   ],
   "source": [
    "brain = stc.plot(subjects_dir=subjects_dir, hemi='both', initial_time=initial_time,\n",
    "                 clim=dict(kind='value', lims=[3, 6, 9]),\n",
    "                 smoothing_steps=7)"
   ]
  },
  {
   "cell_type": "markdown",
   "id": "ef7a365a-9703-422b-8fcb-10a29a2ffebd",
   "metadata": {},
   "source": [
    "## ============== run all above ==============\n"
   ]
  },
  {
   "cell_type": "code",
   "execution_count": 11,
   "id": "c66af127-2c12-43a4-9230-359b1fcbb984",
   "metadata": {},
   "outputs": [],
   "source": [
    "import os\n",
    "from pathlib import Path\n",
    "import h5py\n",
    "import numpy as np\n",
    "import scipy.io as sio\n",
    "from PIL import Image"
   ]
  },
  {
   "cell_type": "code",
   "execution_count": 12,
   "id": "9a2c45f7-9e06-47d3-8123-262736556675",
   "metadata": {},
   "outputs": [],
   "source": [
    "my_stc = stc"
   ]
  },
  {
   "cell_type": "code",
   "execution_count": 13,
   "id": "7a36f598-6540-4bc5-88d9-856228ed6f0d",
   "metadata": {},
   "outputs": [
    {
     "name": "stdout",
     "output_type": "stream",
     "text": [
      "run: LA\n",
      "Using control points [0.04093285 0.04401977 0.06192965]\n"
     ]
    }
   ],
   "source": [
    "data_name = 'sample'\n",
    "model_flag = 'real_model'\n",
    "\n",
    "test_data_dir = './dataset/real_data/'\n",
    "result_dir = './result/' + data_name + '/' + model_flag\n",
    "if not os.path.exists(result_dir):\n",
    "    os.makedirs(result_dir)\n",
    "    \n",
    "# data: EEG & source\n",
    "# size: (dim, nsample)\n",
    "for run in ['LA']: #['LA', 'RA', 'LV', 'RV']:\n",
    "    print('run:',str(run))\n",
    "    result_mat = result_dir + '/Test_result_' + 'evoked_' + str(run) + '.mat'\n",
    "\n",
    "    dataset_result = sio.loadmat(result_mat)\n",
    "    s_pred = dataset_result['s_pred']\n",
    "    s_pred = np.absolute(s_pred)\n",
    "    if s_pred.shape[0]!=1984:\n",
    "        s_pred = s_pred.T\n",
    "\n",
    "#     id_plot=10 #371\n",
    "# #     print(id_plot)\n",
    "\n",
    "#     use_data = s_pred[:, id_plot:id_plot+10]\n",
    "#     my_stc.data = use_data\n",
    "# #     print(use_data.shape, my_stc.times.shape)\n",
    "\n",
    "    my_stc.data = s_pred\n",
    "    brain = mne.viz.plot_source_estimates(\n",
    "            my_stc, \n",
    "#             views= #'lateral', \n",
    "            hemi='lh', #'split', #'both', \n",
    "            surface='white', #'inflated'\n",
    "            background='white',\n",
    "            size=(1000, 1000),\n",
    "            subjects_dir=subjects_dir, \n",
    "            # time_viewer=False, \n",
    "            # show_traces=False, \n",
    "            # colorbar=False,\n",
    "            )\n"
   ]
  },
  {
   "cell_type": "code",
   "execution_count": null,
   "id": "56d0f1df-849c-4634-9d0f-288bd638d453",
   "metadata": {},
   "outputs": [],
   "source": []
  },
  {
   "cell_type": "code",
   "execution_count": null,
   "id": "65870b32-bcc3-40e2-b869-4d02edf297a5",
   "metadata": {},
   "outputs": [],
   "source": []
  }
 ],
 "metadata": {
  "kernelspec": {
   "display_name": "Python [conda env:mne_py10] *",
   "language": "python",
   "name": "conda-env-mne_py10-py"
  },
  "language_info": {
   "codemirror_mode": {
    "name": "ipython",
    "version": 3
   },
   "file_extension": ".py",
   "mimetype": "text/x-python",
   "name": "python",
   "nbconvert_exporter": "python",
   "pygments_lexer": "ipython3",
   "version": "3.10.8"
  }
 },
 "nbformat": 4,
 "nbformat_minor": 5
}
